{
 "cells": [
  {
   "cell_type": "code",
   "execution_count": null,
   "metadata": {},
   "outputs": [
    {
     "name": "stdout",
     "output_type": "stream",
     "text": [
      "Time to generate layouts: 7.145967245101929\n",
      "1056\n",
      "Poset file successfully written to urban_space_complex.mcdplib/_posets/layout.mcdp_poset\n",
      "Time to generate poset: 0.009984970092773438\n",
      "YAML file successfully written to urban_space_complex.mcdplib/layout/layout.dpc.yaml\n",
      "Time to generate cost yaml: 0.051023006439208984\n",
      "YAML file successfully written to urban_space_complex.mcdplib/quality/quality.dpc.yaml\n",
      "Time to generate quality yaml: 0.04751181602478027\n"
     ]
    }
   ],
   "source": [
    "%reload_ext autoreload\n",
    "%autoreload 2\n",
    "\n",
    "import random\n",
    "import time\n",
    "from src.layout_logic import Tile, generate_unique_combinations\n",
    "import src.yaml_builder as yaml_builder\n",
    "\n",
    "size = 3\n",
    "csv_path = f\"layouts{size}.csv\"\n",
    "\n",
    "start_time = time.time()\n",
    "layouts = generate_unique_combinations(tiles=[tile for tile in Tile], size=size)\n",
    "end_time = time.time()\n",
    "pathed_layouts = list(filter(lambda x: x.verticalPathLength() > 0 and x.horizontalPathLength() > 0, layouts))\n",
    "\n",
    "random.shuffle(pathed_layouts)\n",
    "selected_layouts = pathed_layouts[:250]\n",
    "print(f\"Time to generate layouts: {end_time - start_time}\")\n",
    "\n",
    "print(len(pathed_layouts))\n",
    "\n",
    "start_time = time.time()\n",
    "#sort layouts by upfront cost\n",
    "layouts.sort(key=lambda x: x.cost_upfront, reverse=False)\n",
    "yaml_builder.generate_poset_file(selected_layouts, \"urban_space_complex.mcdplib/_posets/layout.mcdp_poset\")\n",
    "end_time = time.time()\n",
    "print(f\"Time to generate poset: {end_time - start_time}\")\n",
    "\n",
    "start_time = time.time()\n",
    "yaml_builder.generate_cost_yaml(selected_layouts, \"urban_space_complex.mcdplib/layout/layout.dpc.yaml\")\n",
    "end_time = time.time()\n",
    "print(f\"Time to generate cost yaml: {end_time - start_time}\")\n",
    "\n",
    "start_time = time.time()\n",
    "yaml_builder.generate_quality_yaml(selected_layouts, \"urban_space_complex.mcdplib/quality/quality.dpc.yaml\")\n",
    "end_time = time.time()\n",
    "print(f\"Time to generate quality yaml: {end_time - start_time}\")\n"
   ]
  },
  {
   "cell_type": "code",
   "execution_count": null,
   "metadata": {},
   "outputs": [],
   "source": []
  },
  {
   "cell_type": "code",
   "execution_count": null,
   "metadata": {},
   "outputs": [],
   "source": []
  }
 ],
 "metadata": {
  "kernelspec": {
   "display_name": ".venv",
   "language": "python",
   "name": "python3"
  },
  "language_info": {
   "codemirror_mode": {
    "name": "ipython",
    "version": 3
   },
   "file_extension": ".py",
   "mimetype": "text/x-python",
   "name": "python",
   "nbconvert_exporter": "python",
   "pygments_lexer": "ipython3",
   "version": "3.12.4"
  }
 },
 "nbformat": 4,
 "nbformat_minor": 2
}
