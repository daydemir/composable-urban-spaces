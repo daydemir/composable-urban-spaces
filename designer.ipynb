{
 "cells": [
  {
   "cell_type": "code",
   "execution_count": 14,
   "metadata": {},
   "outputs": [
    {
     "ename": "KeyboardInterrupt",
     "evalue": "",
     "output_type": "error",
     "traceback": [
      "\u001b[0;31m---------------------------------------------------------------------------\u001b[0m",
      "\u001b[0;31mKeyboardInterrupt\u001b[0m                         Traceback (most recent call last)",
      "Cell \u001b[0;32mIn[14], line 13\u001b[0m\n\u001b[1;32m      9\u001b[0m     arrays: \u001b[38;5;28mlist\u001b[39m[\u001b[38;5;28mlist\u001b[39m[\u001b[38;5;28mlist\u001b[39m[Tile]]] \u001b[38;5;241m=\u001b[39m {\u001b[38;5;28mtuple\u001b[39m(\u001b[38;5;28mmap\u001b[39m(\u001b[38;5;28mtuple\u001b[39m, np\u001b[38;5;241m.\u001b[39marray(c)\u001b[38;5;241m.\u001b[39mreshape(size, size)\u001b[38;5;241m.\u001b[39mtolist())) \u001b[38;5;28;01mfor\u001b[39;00m c \u001b[38;5;129;01min\u001b[39;00m combos}\n\u001b[1;32m     10\u001b[0m     \u001b[38;5;28;01mreturn\u001b[39;00m [Layout(grid) \u001b[38;5;28;01mfor\u001b[39;00m grid \u001b[38;5;129;01min\u001b[39;00m arrays]\n\u001b[0;32m---> 13\u001b[0m layouts \u001b[38;5;241m=\u001b[39m \u001b[43mgenerate_combinations\u001b[49m\u001b[43m(\u001b[49m\u001b[43m[\u001b[49m\u001b[43mtile\u001b[49m\u001b[43m \u001b[49m\u001b[38;5;28;43;01mfor\u001b[39;49;00m\u001b[43m \u001b[49m\u001b[43mtile\u001b[49m\u001b[43m \u001b[49m\u001b[38;5;129;43;01min\u001b[39;49;00m\u001b[43m \u001b[49m\u001b[43mTile\u001b[49m\u001b[43m]\u001b[49m\u001b[43m,\u001b[49m\u001b[43m \u001b[49m\u001b[38;5;241;43m4\u001b[39;49m\u001b[43m)\u001b[49m\n\u001b[1;32m     14\u001b[0m \u001b[38;5;28mprint\u001b[39m(\u001b[38;5;28mlen\u001b[39m(layouts))\n\u001b[1;32m     15\u001b[0m \u001b[38;5;66;03m#sort layouts by greenery score\u001b[39;00m\n",
      "Cell \u001b[0;32mIn[14], line 10\u001b[0m, in \u001b[0;36mgenerate_combinations\u001b[0;34m(tiles, size)\u001b[0m\n\u001b[1;32m      8\u001b[0m combos \u001b[38;5;241m=\u001b[39m itertools\u001b[38;5;241m.\u001b[39mproduct(tiles, repeat\u001b[38;5;241m=\u001b[39msize\u001b[38;5;241m*\u001b[39msize)\n\u001b[1;32m      9\u001b[0m arrays: \u001b[38;5;28mlist\u001b[39m[\u001b[38;5;28mlist\u001b[39m[\u001b[38;5;28mlist\u001b[39m[Tile]]] \u001b[38;5;241m=\u001b[39m {\u001b[38;5;28mtuple\u001b[39m(\u001b[38;5;28mmap\u001b[39m(\u001b[38;5;28mtuple\u001b[39m, np\u001b[38;5;241m.\u001b[39marray(c)\u001b[38;5;241m.\u001b[39mreshape(size, size)\u001b[38;5;241m.\u001b[39mtolist())) \u001b[38;5;28;01mfor\u001b[39;00m c \u001b[38;5;129;01min\u001b[39;00m combos}\n\u001b[0;32m---> 10\u001b[0m \u001b[38;5;28;01mreturn\u001b[39;00m [\u001b[43mLayout\u001b[49m\u001b[43m(\u001b[49m\u001b[43mgrid\u001b[49m\u001b[43m)\u001b[49m \u001b[38;5;28;01mfor\u001b[39;00m grid \u001b[38;5;129;01min\u001b[39;00m arrays]\n",
      "File \u001b[0;32m~/Build/mit/1s980/composable-urban-spaces/layout.py:41\u001b[0m, in \u001b[0;36mLayout.__init__\u001b[0;34m(self, grid)\u001b[0m\n\u001b[1;32m     39\u001b[0m \u001b[38;5;28;01mfor\u001b[39;00m row \u001b[38;5;129;01min\u001b[39;00m grid:\n\u001b[1;32m     40\u001b[0m     \u001b[38;5;28;01mfor\u001b[39;00m item \u001b[38;5;129;01min\u001b[39;00m row:\n\u001b[0;32m---> 41\u001b[0m         \u001b[38;5;28mself\u001b[39m\u001b[38;5;241m.\u001b[39mcost \u001b[38;5;241m+\u001b[39m\u001b[38;5;241m=\u001b[39m item\u001b[38;5;241m.\u001b[39mcost\n",
      "\u001b[0;31mKeyboardInterrupt\u001b[0m: "
     ]
    }
   ],
   "source": [
    "%reload_ext autoreload\n",
    "%autoreload 2\n",
    "\n",
    "import itertools\n",
    "from layout import Tile, Layout, np\n",
    "\n",
    "def generate_combinations(tiles: list[Tile], size: int) -> list[Layout]:\n",
    "    combos = itertools.product(tiles, repeat=size*size)\n",
    "    arrays: list[list[list[Tile]]] = {tuple(map(tuple, np.array(c).reshape(size, size).tolist())) for c in combos}\n",
    "    return [Layout(grid) for grid in arrays]\n",
    "\n",
    "\n",
    "layouts = generate_combinations([tile for tile in Tile], 4)\n",
    "print(len(layouts))\n",
    "#sort layouts by greenery score\n",
    "layouts.sort(key=lambda x: x.greenery(), reverse=True)\n",
    "\n",
    "for layout in layouts[:5]:\n",
    "    print(f\"Cost: {layout.cost}\")\n",
    "    print(f\"Accessibility: {layout.accessibility()}\")\n",
    "    print(f\"Greenery: {layout.greenery()}\")\n",
    "    print(layout.pretty())  "
   ]
  },
  {
   "cell_type": "code",
   "execution_count": 15,
   "metadata": {},
   "outputs": [
    {
     "name": "stdout",
     "output_type": "stream",
     "text": [
      "19683\n",
      "Cost: 7500\n",
      "Accessibility: 0.8\n",
      "Greenery: 1.0\n",
      "🌲 ⬜ 🌲\n",
      "🌲 ⬜ 🌲\n",
      "🌲 ⬜ 🌲\n",
      "Cost: 7500\n",
      "Accessibility: 0.8\n",
      "Greenery: 1.0\n",
      "🌲 🌲 🌲\n",
      "⬜ ⬜ ⬜\n",
      "🌲 🌲 🌲\n",
      "Cost: 8000\n",
      "Accessibility: 0.5\n",
      "Greenery: 0.9666666666666667\n",
      "🌲 🌲 🌲\n",
      "🌲 ⬜ ⬜\n",
      "🌲 🌲 🌲\n",
      "Cost: 8000\n",
      "Accessibility: 0.5\n",
      "Greenery: 0.9666666666666667\n",
      "🌲 🌲 🌲\n",
      "⬜ ⬜ 🌲\n",
      "🌲 🌲 🌲\n",
      "Cost: 8000\n",
      "Accessibility: 0.5\n",
      "Greenery: 0.9666666666666667\n",
      "🌲 ⬜ 🌲\n",
      "🌲 ⬜ 🌲\n",
      "🌲 🌲 🌲\n"
     ]
    }
   ],
   "source": [
    "%reload_ext autoreload\n",
    "%autoreload 2\n",
    "\n",
    "import itertools\n",
    "from layout import Tile, Layout, np\n",
    "\n",
    "def generate_combinations(tiles: list[Tile], size: int) -> list[Layout]:\n",
    "    combos = itertools.product(tiles, repeat=size*size)\n",
    "    arrays: list[list[list[Tile]]] = {tuple(map(tuple, np.array(c).reshape(size, size).tolist())) for c in combos}\n",
    "    return [Layout(grid) for grid in arrays]\n",
    "\n",
    "\n",
    "layouts = generate_combinations([tile for tile in Tile], 3)\n",
    "print(len(layouts))\n",
    "#sort layouts by greenery score\n",
    "layouts.sort(key=lambda x: x.greenery(), reverse=True)\n",
    "\n",
    "max_greenery = max(layouts, key=lambda x: x.greenery())\n",
    "\n",
    "for layout in layouts[:5]:\n",
    "    print(f\"Cost: {layout.cost}\")\n",
    "    print(f\"Accessibility: {layout.accessibility()}\")\n",
    "    print(f\"Greenery: {layout.greenery()/max_greenery.greenery()}\")\n",
    "    print(layout.pretty())  "
   ]
  }
 ],
 "metadata": {
  "kernelspec": {
   "display_name": ".venv",
   "language": "python",
   "name": "python3"
  },
  "language_info": {
   "codemirror_mode": {
    "name": "ipython",
    "version": 3
   },
   "file_extension": ".py",
   "mimetype": "text/x-python",
   "name": "python",
   "nbconvert_exporter": "python",
   "pygments_lexer": "ipython3",
   "version": "3.12.4"
  }
 },
 "nbformat": 4,
 "nbformat_minor": 2
}
