{
 "cells": [
  {
   "cell_type": "code",
   "execution_count": null,
   "metadata": {},
   "outputs": [
    {
     "name": "stdout",
     "output_type": "stream",
     "text": [
      "Time to generate layouts: 3.1964340209960938\n",
      "262144\n",
      "Poset file successfully written to urban_space_complex.mcdplib/_posets/layout.mcdp_poset\n",
      "Time to generate poset: 0.03845620155334473\n",
      "YAML file successfully written to urban_space_complex.mcdplib/layout/layout.dpc.yaml\n",
      "Time to generate cost yaml: 32.553457736968994\n"
     ]
    },
    {
     "ename": "KeyboardInterrupt",
     "evalue": "",
     "output_type": "error",
     "traceback": [
      "\u001b[0;31m---------------------------------------------------------------------------\u001b[0m",
      "\u001b[0;31mKeyboardInterrupt\u001b[0m                         Traceback (most recent call last)",
      "Cell \u001b[0;32mIn[6], line 29\u001b[0m\n\u001b[1;32m     26\u001b[0m \u001b[38;5;28mprint\u001b[39m(\u001b[38;5;124mf\u001b[39m\u001b[38;5;124m\"\u001b[39m\u001b[38;5;124mTime to generate cost yaml: \u001b[39m\u001b[38;5;132;01m{\u001b[39;00mend_time\u001b[38;5;250m \u001b[39m\u001b[38;5;241m-\u001b[39m\u001b[38;5;250m \u001b[39mstart_time\u001b[38;5;132;01m}\u001b[39;00m\u001b[38;5;124m\"\u001b[39m)\n\u001b[1;32m     28\u001b[0m start_time \u001b[38;5;241m=\u001b[39m time\u001b[38;5;241m.\u001b[39mtime()\n\u001b[0;32m---> 29\u001b[0m \u001b[43myaml_builder\u001b[49m\u001b[38;5;241;43m.\u001b[39;49m\u001b[43mgenerate_quality_yaml\u001b[49m\u001b[43m(\u001b[49m\u001b[43mlayouts\u001b[49m\u001b[43m,\u001b[49m\u001b[43m \u001b[49m\u001b[38;5;124;43m\"\u001b[39;49m\u001b[38;5;124;43murban_space_complex.mcdplib/quality/quality.dpc.yaml\u001b[39;49m\u001b[38;5;124;43m\"\u001b[39;49m\u001b[43m)\u001b[49m\n\u001b[1;32m     30\u001b[0m end_time \u001b[38;5;241m=\u001b[39m time\u001b[38;5;241m.\u001b[39mtime()\n\u001b[1;32m     31\u001b[0m \u001b[38;5;28mprint\u001b[39m(\u001b[38;5;124mf\u001b[39m\u001b[38;5;124m\"\u001b[39m\u001b[38;5;124mTime to generate quality yaml: \u001b[39m\u001b[38;5;132;01m{\u001b[39;00mend_time\u001b[38;5;250m \u001b[39m\u001b[38;5;241m-\u001b[39m\u001b[38;5;250m \u001b[39mstart_time\u001b[38;5;132;01m}\u001b[39;00m\u001b[38;5;124m\"\u001b[39m)\n",
      "File \u001b[0;32m~/Build/mit/1s980/composable-urban-spaces/src/yaml_builder.py:72\u001b[0m, in \u001b[0;36mgenerate_quality_yaml\u001b[0;34m(layouts, output_file)\u001b[0m\n\u001b[1;32m     63\u001b[0m yaml_data \u001b[38;5;241m=\u001b[39m {\n\u001b[1;32m     64\u001b[0m     \u001b[38;5;124m\"\u001b[39m\u001b[38;5;124mF\u001b[39m\u001b[38;5;124m\"\u001b[39m: [\u001b[38;5;124m\"\u001b[39m\u001b[38;5;124mdimensionless\u001b[39m\u001b[38;5;124m\"\u001b[39m, \u001b[38;5;124m\"\u001b[39m\u001b[38;5;124mdimensionless\u001b[39m\u001b[38;5;124m\"\u001b[39m],\n\u001b[1;32m     65\u001b[0m     \u001b[38;5;124m\"\u001b[39m\u001b[38;5;124mR\u001b[39m\u001b[38;5;124m\"\u001b[39m: [\u001b[38;5;124m\"\u001b[39m\u001b[38;5;124m`layout\u001b[39m\u001b[38;5;124m\"\u001b[39m],\n\u001b[1;32m     66\u001b[0m     \u001b[38;5;124m\"\u001b[39m\u001b[38;5;124mimplementations\u001b[39m\u001b[38;5;124m\"\u001b[39m: {}\n\u001b[1;32m     67\u001b[0m }\n\u001b[1;32m     69\u001b[0m \u001b[38;5;28;01mfor\u001b[39;00m layout \u001b[38;5;129;01min\u001b[39;00m layouts:\n\u001b[1;32m     70\u001b[0m     yaml_data[\u001b[38;5;124m\"\u001b[39m\u001b[38;5;124mimplementations\u001b[39m\u001b[38;5;124m\"\u001b[39m][layout\u001b[38;5;241m.\u001b[39mpretty_flat] \u001b[38;5;241m=\u001b[39m {\n\u001b[1;32m     71\u001b[0m         \u001b[38;5;124m\"\u001b[39m\u001b[38;5;124mf_max\u001b[39m\u001b[38;5;124m\"\u001b[39m: [\n\u001b[0;32m---> 72\u001b[0m             \u001b[38;5;124mf\u001b[39m\u001b[38;5;124m\"\u001b[39m\u001b[38;5;132;01m{\u001b[39;00m\u001b[43mlayout\u001b[49m\u001b[38;5;241;43m.\u001b[39;49m\u001b[43maccessibility\u001b[49m\u001b[43m(\u001b[49m\u001b[43m)\u001b[49m\u001b[38;5;132;01m}\u001b[39;00m\u001b[38;5;124m dimensionless\u001b[39m\u001b[38;5;124m\"\u001b[39m,\n\u001b[1;32m     73\u001b[0m             \u001b[38;5;124mf\u001b[39m\u001b[38;5;124m\"\u001b[39m\u001b[38;5;132;01m{\u001b[39;00mlayout\u001b[38;5;241m.\u001b[39mgreenery()\u001b[38;5;132;01m}\u001b[39;00m\u001b[38;5;124m dimensionless\u001b[39m\u001b[38;5;124m\"\u001b[39m\n\u001b[1;32m     74\u001b[0m         ],\n\u001b[1;32m     75\u001b[0m         \u001b[38;5;124m\"\u001b[39m\u001b[38;5;124mr_min\u001b[39m\u001b[38;5;124m\"\u001b[39m: [\n\u001b[1;32m     76\u001b[0m             \u001b[38;5;124mf\u001b[39m\u001b[38;5;124m\"\u001b[39m\u001b[38;5;124m`layout: \u001b[39m\u001b[38;5;132;01m{\u001b[39;00mlayout\u001b[38;5;241m.\u001b[39mpretty_flat\u001b[38;5;132;01m}\u001b[39;00m\u001b[38;5;124m\"\u001b[39m\n\u001b[1;32m     77\u001b[0m         ]\n\u001b[1;32m     78\u001b[0m     }\n\u001b[1;32m     80\u001b[0m \u001b[38;5;28;01mwith\u001b[39;00m \u001b[38;5;28mopen\u001b[39m(output_file, \u001b[38;5;124m\"\u001b[39m\u001b[38;5;124mw\u001b[39m\u001b[38;5;124m\"\u001b[39m) \u001b[38;5;28;01mas\u001b[39;00m file:\n\u001b[1;32m     81\u001b[0m     yaml\u001b[38;5;241m.\u001b[39mdump(yaml_data, file, default_flow_style\u001b[38;5;241m=\u001b[39m\u001b[38;5;28;01mFalse\u001b[39;00m, sort_keys\u001b[38;5;241m=\u001b[39m\u001b[38;5;28;01mFalse\u001b[39;00m)\n",
      "File \u001b[0;32m~/Build/mit/1s980/composable-urban-spaces/src/layout_logic.py:186\u001b[0m, in \u001b[0;36mLayout.accessibility\u001b[0;34m(self)\u001b[0m\n\u001b[1;32m    184\u001b[0m pathTiles \u001b[38;5;241m=\u001b[39m \u001b[38;5;28mself\u001b[39m\u001b[38;5;241m.\u001b[39mcounts\u001b[38;5;241m.\u001b[39mget(Tile\u001b[38;5;241m.\u001b[39mPATH, \u001b[38;5;241m0\u001b[39m)\n\u001b[1;32m    185\u001b[0m grassTiles \u001b[38;5;241m=\u001b[39m \u001b[38;5;28mself\u001b[39m\u001b[38;5;241m.\u001b[39mcounts\u001b[38;5;241m.\u001b[39mget(Tile\u001b[38;5;241m.\u001b[39mGRASS, \u001b[38;5;241m0\u001b[39m)\n\u001b[0;32m--> 186\u001b[0m benchScore \u001b[38;5;241m=\u001b[39m \u001b[38;5;28;43mself\u001b[39;49m\u001b[38;5;241;43m.\u001b[39;49m\u001b[43mbenchScore\u001b[49m\u001b[43m(\u001b[49m\u001b[43m)\u001b[49m\n\u001b[1;32m    188\u001b[0m verticalPathScore \u001b[38;5;241m=\u001b[39m size \u001b[38;5;241m/\u001b[39m verticalPath \u001b[38;5;28;01mif\u001b[39;00m verticalPath \u001b[38;5;241m>\u001b[39m \u001b[38;5;241m0\u001b[39m \u001b[38;5;28;01melse\u001b[39;00m \u001b[38;5;241m0\u001b[39m\n\u001b[1;32m    189\u001b[0m horizontalPathScore \u001b[38;5;241m=\u001b[39m size \u001b[38;5;241m/\u001b[39m horizontalPath \u001b[38;5;28;01mif\u001b[39;00m horizontalPath \u001b[38;5;241m>\u001b[39m \u001b[38;5;241m0\u001b[39m \u001b[38;5;28;01melse\u001b[39;00m \u001b[38;5;241m0\u001b[39m\n",
      "File \u001b[0;32m~/Build/mit/1s980/composable-urban-spaces/src/layout_logic.py:202\u001b[0m, in \u001b[0;36mLayout.benchScore\u001b[0;34m(self)\u001b[0m\n\u001b[1;32m    199\u001b[0m score: \u001b[38;5;28mfloat\u001b[39m \u001b[38;5;241m=\u001b[39m \u001b[38;5;241m0\u001b[39m\n\u001b[1;32m    201\u001b[0m \u001b[38;5;28;01mfor\u001b[39;00m row \u001b[38;5;129;01min\u001b[39;00m \u001b[38;5;28mrange\u001b[39m(rows):\n\u001b[0;32m--> 202\u001b[0m     \u001b[38;5;28;01mfor\u001b[39;00m col \u001b[38;5;129;01min\u001b[39;00m \u001b[38;5;28;43mrange\u001b[39;49m\u001b[43m(\u001b[49m\u001b[43mcols\u001b[49m\u001b[43m)\u001b[49m:\n\u001b[1;32m    203\u001b[0m         \u001b[38;5;28;01mif\u001b[39;00m \u001b[38;5;28mself\u001b[39m\u001b[38;5;241m.\u001b[39mgrid[row][col] \u001b[38;5;241m==\u001b[39m Tile\u001b[38;5;241m.\u001b[39mBENCH:\n\u001b[1;32m    204\u001b[0m             on_vertical_edge \u001b[38;5;241m=\u001b[39m row \u001b[38;5;241m==\u001b[39m \u001b[38;5;241m0\u001b[39m \u001b[38;5;129;01mor\u001b[39;00m row \u001b[38;5;241m==\u001b[39m rows \u001b[38;5;241m-\u001b[39m \u001b[38;5;241m1\u001b[39m\n",
      "\u001b[0;31mKeyboardInterrupt\u001b[0m: "
     ]
    }
   ],
   "source": [
    "%reload_ext autoreload\n",
    "%autoreload 2\n",
    "\n",
    "import time\n",
    "from src.layout_logic import Tile, generate_combinations\n",
    "import src.yaml_builder as yaml_builder\n",
    "\n",
    "size = 3\n",
    "csv_path = f\"layouts{size}.csv\"\n",
    "\n",
    "start_time = time.time()\n",
    "layouts = generate_combinations(tiles=[tile for tile in Tile], size=size)\n",
    "end_time = time.time()\n",
    "print(f\"Time to generate layouts: {end_time - start_time}\")\n",
    "\n",
    "print(len(layouts))\n",
    "\n",
    "start_time = time.time()\n",
    "#sort layouts by upfront cost\n",
    "layouts.sort(key=lambda x: x.cost_upfront, reverse=False)\n",
    "yaml_builder.generate_poset_file(layouts, \"urban_space_complex.mcdplib/_posets/layoutXcost.mcdp_poset\")\n",
    "end_time = time.time()\n",
    "print(f\"Time to generate poset: {end_time - start_time}\")\n",
    "\n",
    "\n",
    "start_time = time.time()\n",
    "yaml_builder.generate_poset_file(layouts, \"urban_space_complex.mcdplib/_posets/layoutXcost.mcdp_poset\")\n",
    "end_time = time.time()\n",
    "print(f\"Time to generate poset: {end_time - start_time}\")\n",
    "\n",
    "start_time = time.time()\n",
    "yaml_builder.generate_cost_yaml(layouts, \"urban_space_complex.mcdplib/layout/layout.dpc.yaml\")\n",
    "end_time = time.time()\n",
    "print(f\"Time to generate cost yaml: {end_time - start_time}\")\n",
    "\n",
    "start_time = time.time()\n",
    "yaml_builder.generate_quality_yaml(layouts, \"urban_space_complex.mcdplib/quality/quality.dpc.yaml\")\n",
    "end_time = time.time()\n",
    "print(f\"Time to generate quality yaml: {end_time - start_time}\")\n",
    "\n",
    "\n",
    "\n",
    "# print(len(layouts))\n",
    "\n",
    "# #max greenery value\n",
    "# max_greenery = max([layout.greenery() for layout in layouts])\n",
    "\n",
    "# #max accessibility value\n",
    "# max_accessibility = max([layout.accessibility() for layout in layouts])\n",
    "\n",
    "#sort layouts by accessibility\n",
    "# layouts.sort(key=lambda x: (x.greenery()) * (x.accessibility()), reverse=True)\n",
    "\n",
    "# for layout in layouts[:5]:\n",
    "#     print(f\"Cost: {layout.upfront_cost}\")\n",
    "#     print(f\"Accessibility: {layout.accessibility()}\")\n",
    "#     print(f\"Greenery: {layout.greenery()}\")\n",
    "#     print(layout.pretty())\n",
    "\n",
    "# layoutsToCSV(layouts)\n"
   ]
  },
  {
   "cell_type": "code",
   "execution_count": null,
   "metadata": {},
   "outputs": [],
   "source": []
  }
 ],
 "metadata": {
  "kernelspec": {
   "display_name": ".venv",
   "language": "python",
   "name": "python3"
  },
  "language_info": {
   "codemirror_mode": {
    "name": "ipython",
    "version": 3
   },
   "file_extension": ".py",
   "mimetype": "text/x-python",
   "name": "python",
   "nbconvert_exporter": "python",
   "pygments_lexer": "ipython3",
   "version": "3.12.4"
  }
 },
 "nbformat": 4,
 "nbformat_minor": 2
}
