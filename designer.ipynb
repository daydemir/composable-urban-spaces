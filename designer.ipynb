{
 "cells": [
  {
   "cell_type": "code",
   "execution_count": null,
   "metadata": {},
   "outputs": [],
   "source": [
    "%reload_ext autoreload\n",
    "%autoreload 2\n",
    "\n",
    "import time\n",
    "from layout import Tile, generate_combinations, layoutsToCSV\n",
    "\n",
    "start_time = time.time()\n",
    "layouts = generate_combinations([tile for tile in Tile], 4)\n",
    "end_time = time.time()\n",
    "\n",
    "print(f\"Time to generate layouts: {end_time - start_time}\")\n",
    "print(len(layouts))\n",
    "\n",
    "# #max greenery value\n",
    "# max_greenery = max([layout.greenery() for layout in layouts])\n",
    "\n",
    "# #max accessibility value\n",
    "# max_accessibility = max([layout.accessibility() for layout in layouts])\n",
    "\n",
    "#sort layouts by accessibility\n",
    "# layouts.sort(key=lambda x: (x.greenery()) * (x.accessibility()), reverse=True)\n",
    "\n",
    "# for layout in layouts[:5]:\n",
    "#     print(f\"Cost: {layout.upfront_cost}\")\n",
    "#     print(f\"Accessibility: {layout.accessibility()}\")\n",
    "#     print(f\"Greenery: {layout.greenery()}\")\n",
    "#     print(layout.pretty())\n",
    "\n",
    "layoutsToCSV(layouts)\n"
   ]
  },
  {
   "cell_type": "code",
   "execution_count": null,
   "metadata": {},
   "outputs": [],
   "source": []
  }
 ],
 "metadata": {
  "kernelspec": {
   "display_name": ".venv",
   "language": "python",
   "name": "python3"
  },
  "language_info": {
   "codemirror_mode": {
    "name": "ipython",
    "version": 3
   },
   "file_extension": ".py",
   "mimetype": "text/x-python",
   "name": "python",
   "nbconvert_exporter": "python",
   "pygments_lexer": "ipython3",
   "version": "3.12.4"
  }
 },
 "nbformat": 4,
 "nbformat_minor": 2
}
