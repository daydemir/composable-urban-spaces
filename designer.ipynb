{
 "cells": [
  {
   "cell_type": "code",
   "execution_count": null,
   "metadata": {},
   "outputs": [
    {
     "name": "stdout",
     "output_type": "stream",
     "text": [
      "Time to generate layouts: 3.4496779441833496\n",
      "262144\n",
      "Poset file successfully written to urban_space_complex.mcdplib/_posets/layoutXcost.mcdp_poset\n",
      "Time to generate poset: 0.10911393165588379\n",
      "Poset file successfully written to urban_space_complex.mcdplib/_posets/layoutXcost.mcdp_poset\n",
      "Time to generate poset: 0.08073210716247559\n"
     ]
    }
   ],
   "source": [
    "%reload_ext autoreload\n",
    "%autoreload 2\n",
    "\n",
    "import time\n",
    "from src.layout_logic import Tile, generate_combinations\n",
    "import src.yaml_builder as yaml_builder\n",
    "\n",
    "size = 3\n",
    "csv_path = f\"layouts{size}.csv\"\n",
    "\n",
    "start_time = time.time()\n",
    "layouts = generate_combinations(tiles=[tile for tile in Tile], size=size)\n",
    "end_time = time.time()\n",
    "print(f\"Time to generate layouts: {end_time - start_time}\")\n",
    "\n",
    "print(len(layouts))\n",
    "\n",
    "start_time = time.time()\n",
    "#sort layouts by upfront cost\n",
    "layouts.sort(key=lambda x: x.cost_upfront, reverse=False)\n",
    "yaml_builder.generate_poset_file(layouts, \"urban_space_complex.mcdplib/_posets/layout.mcdp_poset\")\n",
    "end_time = time.time()\n",
    "print(f\"Time to generate poset: {end_time - start_time}\")\n",
    "\n",
    "start_time = time.time()\n",
    "yaml_builder.generate_cost_yaml(layouts, \"urban_space_complex.mcdplib/layout/layout.dpc.yaml\")\n",
    "end_time = time.time()\n",
    "print(f\"Time to generate cost yaml: {end_time - start_time}\")\n",
    "\n",
    "start_time = time.time()\n",
    "yaml_builder.generate_quality_yaml(layouts, \"urban_space_complex.mcdplib/quality/quality.dpc.yaml\")\n",
    "end_time = time.time()\n",
    "print(f\"Time to generate quality yaml: {end_time - start_time}\")\n",
    "\n",
    "\n",
    "\n",
    "# print(len(layouts))\n",
    "\n",
    "# #max greenery value\n",
    "# max_greenery = max([layout.greenery() for layout in layouts])\n",
    "\n",
    "# #max accessibility value\n",
    "# max_accessibility = max([layout.accessibility() for layout in layouts])\n",
    "\n",
    "#sort layouts by accessibility\n",
    "# layouts.sort(key=lambda x: (x.greenery()) * (x.accessibility()), reverse=True)\n",
    "\n",
    "# for layout in layouts[:5]:\n",
    "#     print(f\"Cost: {layout.upfront_cost}\")\n",
    "#     print(f\"Accessibility: {layout.accessibility()}\")\n",
    "#     print(f\"Greenery: {layout.greenery()}\")\n",
    "#     print(layout.pretty())\n",
    "\n",
    "# layoutsToCSV(layouts)\n"
   ]
  },
  {
   "cell_type": "code",
   "execution_count": null,
   "metadata": {},
   "outputs": [],
   "source": []
  }
 ],
 "metadata": {
  "kernelspec": {
   "display_name": ".venv",
   "language": "python",
   "name": "python3"
  },
  "language_info": {
   "codemirror_mode": {
    "name": "ipython",
    "version": 3
   },
   "file_extension": ".py",
   "mimetype": "text/x-python",
   "name": "python",
   "nbconvert_exporter": "python",
   "pygments_lexer": "ipython3",
   "version": "3.12.4"
  }
 },
 "nbformat": 4,
 "nbformat_minor": 2
}
