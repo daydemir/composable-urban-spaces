{
 "cells": [
  {
   "cell_type": "code",
   "execution_count": null,
   "metadata": {},
   "outputs": [
    {
     "name": "stdout",
     "output_type": "stream",
     "text": [
      "Saved 100000 layouts...\n",
      "Saved 200000 layouts...\n",
      "All layouts saved to layouts3.csv\n",
      "Time to generate layouts: 4.208894968032837\n",
      "262144\n"
     ]
    },
    {
     "ename": "FileNotFoundError",
     "evalue": "[Errno 2] No such file or directory: '_posets/layout.mcdp_poset'",
     "output_type": "error",
     "traceback": [
      "\u001b[0;31m---------------------------------------------------------------------------\u001b[0m",
      "\u001b[0;31mFileNotFoundError\u001b[0m                         Traceback (most recent call last)",
      "Cell \u001b[0;32mIn[1], line 19\u001b[0m\n\u001b[1;32m     16\u001b[0m \u001b[38;5;28mprint\u001b[39m(\u001b[38;5;28mlen\u001b[39m(layouts))\n\u001b[1;32m     18\u001b[0m start_time \u001b[38;5;241m=\u001b[39m time\u001b[38;5;241m.\u001b[39mtime()\n\u001b[0;32m---> 19\u001b[0m \u001b[43myaml_builder\u001b[49m\u001b[38;5;241;43m.\u001b[39;49m\u001b[43mgenerate_poset_file\u001b[49m\u001b[43m(\u001b[49m\u001b[43mlayouts\u001b[49m\u001b[43m,\u001b[49m\u001b[43m \u001b[49m\u001b[38;5;124;43m\"\u001b[39;49m\u001b[38;5;124;43m_posets/layout.mcdp_poset\u001b[39;49m\u001b[38;5;124;43m\"\u001b[39;49m\u001b[43m)\u001b[49m\n\u001b[1;32m     20\u001b[0m end_time \u001b[38;5;241m=\u001b[39m time\u001b[38;5;241m.\u001b[39mtime()\n\u001b[1;32m     21\u001b[0m \u001b[38;5;28mprint\u001b[39m(\u001b[38;5;124mf\u001b[39m\u001b[38;5;124m\"\u001b[39m\u001b[38;5;124mTime to generate poset: \u001b[39m\u001b[38;5;132;01m{\u001b[39;00mend_time\u001b[38;5;250m \u001b[39m\u001b[38;5;241m-\u001b[39m\u001b[38;5;250m \u001b[39mstart_time\u001b[38;5;132;01m}\u001b[39;00m\u001b[38;5;124m\"\u001b[39m)\n",
      "File \u001b[0;32m~/Build/mit/1s980/composable-urban-spaces/yaml_builder.py:14\u001b[0m, in \u001b[0;36mgenerate_poset_file\u001b[0;34m(layouts, output_file)\u001b[0m\n\u001b[1;32m      6\u001b[0m \u001b[38;5;28;01mdef\u001b[39;00m \u001b[38;5;21mgenerate_poset_file\u001b[39m(layouts: \u001b[38;5;28mlist\u001b[39m[Layout], output_file: \u001b[38;5;28mstr\u001b[39m) \u001b[38;5;241m-\u001b[39m\u001b[38;5;241m>\u001b[39m \u001b[38;5;28;01mNone\u001b[39;00m:\n\u001b[1;32m      7\u001b[0m \u001b[38;5;250m    \u001b[39m\u001b[38;5;124;03m\"\"\"\u001b[39;00m\n\u001b[1;32m      8\u001b[0m \u001b[38;5;124;03m    Generate a poset file from the given list of layouts.\u001b[39;00m\n\u001b[1;32m      9\u001b[0m \n\u001b[0;32m   (...)\u001b[0m\n\u001b[1;32m     12\u001b[0m \u001b[38;5;124;03m        output_file: Path to the output poset file.\u001b[39;00m\n\u001b[1;32m     13\u001b[0m \u001b[38;5;124;03m    \"\"\"\u001b[39;00m\n\u001b[0;32m---> 14\u001b[0m     \u001b[38;5;28;01mwith\u001b[39;00m \u001b[38;5;28;43mopen\u001b[39;49m\u001b[43m(\u001b[49m\u001b[43moutput_file\u001b[49m\u001b[43m,\u001b[49m\u001b[43m \u001b[49m\u001b[38;5;124;43m\"\u001b[39;49m\u001b[38;5;124;43mw\u001b[39;49m\u001b[38;5;124;43m\"\u001b[39;49m\u001b[43m)\u001b[49m \u001b[38;5;28;01mas\u001b[39;00m file:\n\u001b[1;32m     15\u001b[0m         file\u001b[38;5;241m.\u001b[39mwrite(\u001b[38;5;124m\"\u001b[39m\u001b[38;5;124mposet \u001b[39m\u001b[38;5;124m{\u001b[39m\u001b[38;5;130;01m\\n\u001b[39;00m\u001b[38;5;124m\"\u001b[39m)\n\u001b[1;32m     16\u001b[0m         \u001b[38;5;28;01mfor\u001b[39;00m layout \u001b[38;5;129;01min\u001b[39;00m layouts:\n",
      "\u001b[0;31mFileNotFoundError\u001b[0m: [Errno 2] No such file or directory: '_posets/layout.mcdp_poset'"
     ]
    }
   ],
   "source": [
    "%reload_ext autoreload\n",
    "%autoreload 2\n",
    "\n",
    "import time\n",
    "from layout_logic import Tile, generate_combinations, layoutsToCSV\n",
    "import yaml_builder\n",
    "\n",
    "size = 3\n",
    "csv_path = f\"layouts{size}.csv\"\n",
    "\n",
    "start_time = time.time()\n",
    "layouts = generate_combinations([tile for tile in Tile], size, csv_path)\n",
    "end_time = time.time()\n",
    "print(f\"Time to generate layouts: {end_time - start_time}\")\n",
    "\n",
    "print(len(layouts))\n",
    "\n",
    "start_time = time.time()\n",
    "yaml_builder.generate_poset_file(layouts, \"urban_space_complex.mcdplib/_posets/layout.mcdp_poset\")\n",
    "end_time = time.time()\n",
    "print(f\"Time to generate poset: {end_time - start_time}\")\n",
    "\n",
    "start_time = time.time()\n",
    "yaml_builder.generate_cost_yaml(layouts, \"urban_space_complex.mcdplib/layout/layout.dpc.yaml\")\n",
    "end_time = time.time()\n",
    "print(f\"Time to generate cost yaml: {end_time - start_time}\")\n",
    "\n",
    "start_time = time.time()\n",
    "yaml_builder.generate_quality_yaml(layouts, \"urban_space_complex.mcdplib/quality/quality.dpc.yaml\")\n",
    "end_time = time.time()\n",
    "print(f\"Time to generate quality yaml: {end_time - start_time}\")\n",
    "\n",
    "\n",
    "\n",
    "# print(len(layouts))\n",
    "\n",
    "# #max greenery value\n",
    "# max_greenery = max([layout.greenery() for layout in layouts])\n",
    "\n",
    "# #max accessibility value\n",
    "# max_accessibility = max([layout.accessibility() for layout in layouts])\n",
    "\n",
    "#sort layouts by accessibility\n",
    "# layouts.sort(key=lambda x: (x.greenery()) * (x.accessibility()), reverse=True)\n",
    "\n",
    "# for layout in layouts[:5]:\n",
    "#     print(f\"Cost: {layout.upfront_cost}\")\n",
    "#     print(f\"Accessibility: {layout.accessibility()}\")\n",
    "#     print(f\"Greenery: {layout.greenery()}\")\n",
    "#     print(layout.pretty())\n",
    "\n",
    "# layoutsToCSV(layouts)\n"
   ]
  },
  {
   "cell_type": "code",
   "execution_count": null,
   "metadata": {},
   "outputs": [],
   "source": []
  }
 ],
 "metadata": {
  "kernelspec": {
   "display_name": ".venv",
   "language": "python",
   "name": "python3"
  },
  "language_info": {
   "codemirror_mode": {
    "name": "ipython",
    "version": 3
   },
   "file_extension": ".py",
   "mimetype": "text/x-python",
   "name": "python",
   "nbconvert_exporter": "python",
   "pygments_lexer": "ipython3",
   "version": "3.12.4"
  }
 },
 "nbformat": 4,
 "nbformat_minor": 2
}
