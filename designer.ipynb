{
 "cells": [
  {
   "cell_type": "code",
   "execution_count": 5,
   "metadata": {},
   "outputs": [
    {
     "name": "stdout",
     "output_type": "stream",
     "text": [
      "19683\n",
      "Looking for vertical paths...\n",
      "Path length: 3\n",
      "Cost: 3500\n",
      "⬜ 🌱 ⬜\n",
      "⬜ 🌱 🌲\n",
      "⬜ 🌱 ⬜\n",
      "Path length: 4\n",
      "Cost: 3000\n",
      "🌲 ⬜ 🌱\n",
      "⬜ ⬜ 🌱\n",
      "⬜ 🌱 🌱\n",
      "Path length: 3\n",
      "Cost: 4500\n",
      "⬜ ⬜ ⬜\n",
      "🌱 🌱 ⬜\n",
      "🌲 🌲 ⬜\n",
      "Path length: 3\n",
      "Cost: 5000\n",
      "⬜ ⬜ 🌲\n",
      "🌱 ⬜ 🌱\n",
      "🌲 ⬜ 🌲\n",
      "Path length: 3\n",
      "Cost: 5000\n",
      "⬜ 🌲 ⬜\n",
      "⬜ ⬜ 🌲\n",
      "⬜ 🌱 ⬜\n"
     ]
    }
   ],
   "source": [
    "%reload_ext autoreload\n",
    "%autoreload 2\n",
    "\n",
    "import itertools\n",
    "from layout import Tile, Layout, np\n",
    "\n",
    "def generate_combinations(tiles: list[Tile], size: int) -> list[Layout]:\n",
    "    combos = itertools.product(tiles, repeat=size*size)\n",
    "    arrays: list[list[list[Tile]]] = {tuple(map(tuple, np.array(c).reshape(size, size).tolist())) for c in combos}\n",
    "    return [Layout(grid) for grid in arrays]\n",
    "\n",
    "\n",
    "layouts = generate_combinations([tile for tile in Tile], 3)\n",
    "print(len(layouts))\n",
    "\n",
    "print(\"Looking for vertical paths...\")\n",
    "for layout in list(filter(lambda x: x.hasVerticalPath() != None, layouts))[:5]:\n",
    "    print(f\"Path length: {layout.hasVerticalPath()}\")\n",
    "    print(f\"Cost: {layout.cost}\")\n",
    "    print(layout.pretty())    "
   ]
  },
  {
   "cell_type": "code",
   "execution_count": null,
   "metadata": {},
   "outputs": [],
   "source": []
  }
 ],
 "metadata": {
  "kernelspec": {
   "display_name": ".venv",
   "language": "python",
   "name": "python3"
  },
  "language_info": {
   "codemirror_mode": {
    "name": "ipython",
    "version": 3
   },
   "file_extension": ".py",
   "mimetype": "text/x-python",
   "name": "python",
   "nbconvert_exporter": "python",
   "pygments_lexer": "ipython3",
   "version": "3.12.4"
  }
 },
 "nbformat": 4,
 "nbformat_minor": 2
}
