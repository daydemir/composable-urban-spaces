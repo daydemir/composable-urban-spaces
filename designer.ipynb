{
 "cells": [
  {
   "cell_type": "code",
   "execution_count": null,
   "metadata": {},
   "outputs": [
    {
     "name": "stdout",
     "output_type": "stream",
     "text": [
      "67056\n",
      "Time to generate layouts: 7.3052520751953125\n",
      "Poset file successfully written to urban_space.mcdplib/_posets/layout.mcdp_poset\n",
      "Time to generate poset: 0.012465953826904297\n",
      "YAML file successfully written to urban_space.mcdplib/layout/layout.dpc.yaml\n",
      "Time to generate cost yaml: 0.021738052368164062\n",
      "YAML file successfully written to urban_space.mcdplib/quality/quality.dpc.yaml\n",
      "Time to generate quality yaml: 0.019465923309326172\n"
     ]
    }
   ],
   "source": [
    "%reload_ext autoreload\n",
    "%autoreload 2\n",
    "\n",
    "import random\n",
    "import time\n",
    "from src.layout_logic import Tile, generate_unique_combinations\n",
    "import src.yaml_builder as yaml_builder\n",
    "\n",
    "size = 3\n",
    "csv_path = f\"layouts{size}.csv\"\n",
    "\n",
    "start_time = time.time()\n",
    "layouts = generate_unique_combinations(tiles=[tile for tile in Tile], size=size)\n",
    "print(len(layouts))\n",
    "end_time = time.time()\n",
    "unpathed_layouts = list(filter(lambda x: x.verticalPathLength() == 0 or x.horizontalPathLength() == 0, layouts))\n",
    "# semipathed_layouts = list(filter(lambda x: x.verticalPathLength() == 0 or x.horizontalPathLength() == 0, layouts))\n",
    "pathed_layouts = list(filter(lambda x: x.verticalPathLength() > 0 and x.horizontalPathLength() > 0, layouts))\n",
    "\n",
    "random.shuffle(unpathed_layouts)\n",
    "random.shuffle(pathed_layouts)\n",
    "selected_layouts = unpathed_layouts[:200] + pathed_layouts[:200]\n",
    "print(f\"Time to generate layouts: {end_time - start_time}\")\n",
    "\n",
    "start_time = time.time()\n",
    "#sort layouts by upfront cost\n",
    "layouts.sort(key=lambda x: x.cost_upfront, reverse=False)\n",
    "yaml_builder.generate_poset_file3(selected_layouts, \"urban_space.mcdplib/_posets/layout.mcdp_poset\")\n",
    "end_time = time.time()\n",
    "print(f\"Time to generate poset: {end_time - start_time}\")\n",
    "\n",
    "start_time = time.time()\n",
    "yaml_builder.generate_cost_yaml(selected_layouts, \"urban_space.mcdplib/layout/layout.dpc.yaml\")\n",
    "end_time = time.time()\n",
    "print(f\"Time to generate cost yaml: {end_time - start_time}\")\n",
    "\n",
    "start_time = time.time()\n",
    "yaml_builder.generate_quality_yaml(selected_layouts, \"urban_space.mcdplib/quality/quality.dpc.yaml\")\n",
    "end_time = time.time()\n",
    "print(f\"Time to generate quality yaml: {end_time - start_time}\")\n"
   ]
  },
  {
   "cell_type": "code",
   "execution_count": null,
   "metadata": {},
   "outputs": [],
   "source": []
  },
  {
   "cell_type": "code",
   "execution_count": null,
   "metadata": {},
   "outputs": [],
   "source": []
  }
 ],
 "metadata": {
  "kernelspec": {
   "display_name": ".venv",
   "language": "python",
   "name": "python3"
  },
  "language_info": {
   "codemirror_mode": {
    "name": "ipython",
    "version": 3
   },
   "file_extension": ".py",
   "mimetype": "text/x-python",
   "name": "python",
   "nbconvert_exporter": "python",
   "pygments_lexer": "ipython3",
   "version": "3.12.4"
  }
 },
 "nbformat": 4,
 "nbformat_minor": 2
}
