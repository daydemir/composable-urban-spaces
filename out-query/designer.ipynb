{
 "cells": [
  {
   "cell_type": "code",
   "execution_count": 26,
   "metadata": {},
   "outputs": [],
   "source": [
    "import itertools\n",
    "import numpy as np\n",
    "import enum as Enum\n",
    "\n",
    "\n",
    "class Tile(Enum.Enum):\n",
    "    GRASS = 0\n",
    "    TREE = 1\n",
    "    PATH = 2\n",
    "\n",
    "    @property\n",
    "    def cost(self):\n",
    "        if self == Tile.GRASS:\n",
    "            return 0\n",
    "        if self == Tile.TREE:\n",
    "            return 1000\n",
    "        if self == Tile.PATH:\n",
    "            return 500\n",
    "        raise ValueError(f\"Unknown Tile: {self}\")\n",
    "\n",
    "class Layout:\n",
    "    def __init__(self, grid: list[list[Tile]]):\n",
    "        self.grid = grid\n",
    "        \n",
    "        self.cost = 0\n",
    "        for row in grid:\n",
    "            for item in row:\n",
    "                self.cost += item.cost\n",
    "\n",
    "\n",
    "def generate_combinations(tiles: list[Tile], size: int) -> list[Layout]:\n",
    "    combos = itertools.product(tiles, repeat=size*size)\n",
    "    arrays: list[list[list[Tile]]] = {tuple(map(tuple, np.array(c).reshape(size, size).tolist())) for c in combos}\n",
    "    return [Layout(grid) for grid in arrays]\n",
    "\n",
    "\n",
    "\n",
    "\n"
   ]
  },
  {
   "cell_type": "code",
   "execution_count": 28,
   "metadata": {},
   "outputs": [
    {
     "name": "stdout",
     "output_type": "stream",
     "text": [
      "19683\n",
      "((<Tile.PATH: 2>, <Tile.TREE: 1>, <Tile.PATH: 2>), (<Tile.PATH: 2>, <Tile.PATH: 2>, <Tile.GRASS: 0>), (<Tile.GRASS: 0>, <Tile.PATH: 2>, <Tile.PATH: 2>))\n",
      "4000\n",
      "((<Tile.PATH: 2>, <Tile.TREE: 1>, <Tile.TREE: 1>), (<Tile.PATH: 2>, <Tile.PATH: 2>, <Tile.GRASS: 0>), (<Tile.TREE: 1>, <Tile.PATH: 2>, <Tile.GRASS: 0>))\n",
      "5000\n",
      "((<Tile.GRASS: 0>, <Tile.GRASS: 0>, <Tile.GRASS: 0>), (<Tile.PATH: 2>, <Tile.PATH: 2>, <Tile.TREE: 1>), (<Tile.PATH: 2>, <Tile.TREE: 1>, <Tile.GRASS: 0>))\n",
      "3500\n",
      "((<Tile.TREE: 1>, <Tile.PATH: 2>, <Tile.PATH: 2>), (<Tile.TREE: 1>, <Tile.TREE: 1>, <Tile.GRASS: 0>), (<Tile.PATH: 2>, <Tile.PATH: 2>, <Tile.PATH: 2>))\n",
      "5500\n",
      "((<Tile.GRASS: 0>, <Tile.TREE: 1>, <Tile.PATH: 2>), (<Tile.TREE: 1>, <Tile.TREE: 1>, <Tile.PATH: 2>), (<Tile.GRASS: 0>, <Tile.TREE: 1>, <Tile.GRASS: 0>))\n",
      "5000\n"
     ]
    }
   ],
   "source": [
    "\n",
    "arrays = generate_combinations([tile for tile in Tile], 3)\n",
    "print(len(arrays)) \n",
    "for layout in list(arrays)[:5]:  # Display a few examples\n",
    "    print(layout.grid)\n",
    "    print(layout.cost)"
   ]
  }
 ],
 "metadata": {
  "kernelspec": {
   "display_name": ".venv",
   "language": "python",
   "name": "python3"
  },
  "language_info": {
   "codemirror_mode": {
    "name": "ipython",
    "version": 3
   },
   "file_extension": ".py",
   "mimetype": "text/x-python",
   "name": "python",
   "nbconvert_exporter": "python",
   "pygments_lexer": "ipython3",
   "version": "3.12.4"
  }
 },
 "nbformat": 4,
 "nbformat_minor": 2
}
