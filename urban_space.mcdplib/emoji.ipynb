{
 "cells": [
  {
   "cell_type": "code",
   "execution_count": null,
   "metadata": {
    "vscode": {
     "languageId": "plaintext"
    }
   },
   "outputs": [],
   "source": [
    "def convert_to_emoji_grid(input_str: str) -> str:\n",
    "    \"\"\"\n",
    "    Converts a string in the format \"ABC_DEF_GHI\" to an emoji grid.\n",
    "    \n",
    "    Args:\n",
    "        input_str (str): The input string containing T, G, P, B.\n",
    "    \n",
    "    Returns:\n",
    "        str: A string representing the emoji grid.\n",
    "    \"\"\"\n",
    "    # Mapping of characters to emojis\n",
    "    char_to_emoji = {\n",
    "        'T': '🌳',\n",
    "        'G': '🌱',\n",
    "        'P': '⬜',\n",
    "        'B': '🪑'\n",
    "    }\n",
    "    \n",
    "    # Replace underscores with newlines and map characters to emojis\n",
    "    emoji_grid = '\\n'.join(\n",
    "        ''.join(char_to_emoji[char] for char in row)\n",
    "        for row in input_str.split('_')\n",
    "    )\n",
    "    \n",
    "    return emoji_grid\n",
    "\n",
    "# Example usage\n",
    "input_str = \"TTT_TPG_TBP\"\n",
    "print(convert_to_emoji_grid(input_str))"
   ]
  }
 ],
 "metadata": {
  "language_info": {
   "name": "python"
  }
 },
 "nbformat": 4,
 "nbformat_minor": 2
}
